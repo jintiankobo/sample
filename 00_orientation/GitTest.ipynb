{
 "cells": [
  {
   "cell_type": "markdown",
   "id": "3a699da3",
   "metadata": {},
   "source": [
    "Gitの課題"
   ]
  },
  {
   "cell_type": "code",
   "execution_count": null,
   "id": "b73e945e",
   "metadata": {},
   "outputs": [],
   "source": [
    "print(\"コミットからプッシュまでを行おう！\")"
   ]
  }
 ],
 "metadata": {
  "language_info": {
   "name": "python"
  }
 },
 "nbformat": 4,
 "nbformat_minor": 5
}
