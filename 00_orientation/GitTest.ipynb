{
 "cells": [
  {
   "cell_type": "markdown",
   "id": "2bdb71fc",
   "metadata": {},
   "source": [
    "Gitの課題"
   ]
  },
  {
   "cell_type": "code",
   "execution_count": null,
   "id": "23baf77f",
   "metadata": {},
   "outputs": [],
   "source": [
    "print(\"コミットからプッシュまでを行おう！\")"
   ]
  }
 ],
 "metadata": {
  "language_info": {
   "name": "python"
  }
 },
 "nbformat": 4,
 "nbformat_minor": 5
}
